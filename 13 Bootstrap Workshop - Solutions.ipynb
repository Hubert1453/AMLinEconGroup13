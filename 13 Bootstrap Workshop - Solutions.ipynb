{
 "cells": [
  {
   "cell_type": "markdown",
   "id": "superior-israel",
   "metadata": {},
   "source": [
    "## Workshop - Bootstrap\n",
    "\n",
    "Today we will\n",
    "\n",
    "1. Show the average unique number of observations when bootstrapping\n",
    "2. Estimate the standard deviation on the causal effect from a **RANDOMIZED CONTROL TRIAL**\n",
    "\n",
    "**************************************\n",
    "# Bootstrap Samples\n",
    "\n",
    "In one code cell:\n",
    "\n",
    "- import `numpy` and `numpy.random`\n",
    "- set the seed to 490\n",
    "- create *a range* from 0 to 10,000\n",
    "    - *hint: start with a smaller size to set up the framework*\n",
    "- create an empty list\n",
    "- in a 1,000 iteration for loop\n",
    "    - *hint: start with a smaller size to set up the framework*\n",
    "    - randomly sample your range your range with replacement with a size equal to the length of your range using `npr.choice()`\n",
    "    - append your empty list with the length of the the number of unique values from the sampling with replacement\n",
    "- output the average number of unique values over all bootstrapped samples"
   ]
  },
  {
   "cell_type": "code",
   "execution_count": 1,
   "id": "adjusted-jordan",
   "metadata": {},
   "outputs": [
    {
     "data": {
      "text/plain": [
       "0.6321646"
      ]
     },
     "execution_count": 1,
     "metadata": {},
     "output_type": "execute_result"
    }
   ],
   "source": [
    "import numpy as np\n",
    "import numpy.random as npr\n",
    "npr.seed(490)\n",
    "\n",
    "x = np.arange(0, 10000)\n",
    "\n",
    "n_unique = []\n",
    "for i in range(1000):\n",
    "    smpl = npr.choice(x, len(x)) # replace = True is default\n",
    "    n_unique.append(len(np.unique(smpl)))\n",
    "\n",
    "np.mean(n_unique)/len(x)"
   ]
  },
  {
   "cell_type": "markdown",
   "id": "destroyed-string",
   "metadata": {},
   "source": [
    "Is this closer to 1/2, 2/3, or 3/4?"
   ]
  },
  {
   "cell_type": "code",
   "execution_count": 2,
   "id": "exempt-poultry",
   "metadata": {},
   "outputs": [],
   "source": [
    "# 2/3"
   ]
  },
  {
   "cell_type": "markdown",
   "id": "advised-arrest",
   "metadata": {},
   "source": [
    "**************\n",
    "# Randomize Control Trial \n",
    "\n",
    "In economics, we call experiments with randomly assigned treatment and control groups __*randomized control trials*__. \n",
    "In data science, they are called _**A-B testing**_.\n",
    "\n",
    "In this application, we will be using a data set from [kaggle](https://www.kaggle.com/samtyagi/audacity-ab-testing). \n",
    "We will be using an LPM to estimate the effect of being in a treament group on clicking *something*.\n",
    "The data is from Audacity, however, there is no information about the experiment specifically. \n",
    "We do not know if this is showing different versions of a website, different versions of an advertisement, or something else entirely.\n",
    "\n"
   ]
  },
  {
   "cell_type": "code",
   "execution_count": 2,
   "id": "recorded-suggestion",
   "metadata": {},
   "outputs": [],
   "source": [
    "import pandas as pd\n",
    "from tqdm import tqdm\n",
    "\n",
    "import statsmodels.api as sm\n",
    "from sklearn.linear_model import LinearRegression\n",
    "\n",
    "import matplotlib.pyplot as plt"
   ]
  },
  {
   "cell_type": "markdown",
   "id": "adequate-fishing",
   "metadata": {},
   "source": [
    "Load in the audacity data as `ab` with `index_col = timestamp`.\n",
    "Print the head."
   ]
  },
  {
   "cell_type": "code",
   "execution_count": 3,
   "id": "living-owner",
   "metadata": {},
   "outputs": [
    {
     "data": {
      "text/html": [
       "<div>\n",
       "<style scoped>\n",
       "    .dataframe tbody tr th:only-of-type {\n",
       "        vertical-align: middle;\n",
       "    }\n",
       "\n",
       "    .dataframe tbody tr th {\n",
       "        vertical-align: top;\n",
       "    }\n",
       "\n",
       "    .dataframe thead th {\n",
       "        text-align: right;\n",
       "    }\n",
       "</style>\n",
       "<table border=\"1\" class=\"dataframe\">\n",
       "  <thead>\n",
       "    <tr style=\"text-align: right;\">\n",
       "      <th></th>\n",
       "      <th>id</th>\n",
       "      <th>group</th>\n",
       "      <th>action</th>\n",
       "    </tr>\n",
       "    <tr>\n",
       "      <th>timestamp</th>\n",
       "      <th></th>\n",
       "      <th></th>\n",
       "      <th></th>\n",
       "    </tr>\n",
       "  </thead>\n",
       "  <tbody>\n",
       "    <tr>\n",
       "      <th>2016-09-24 17:42:27.839496</th>\n",
       "      <td>804196</td>\n",
       "      <td>experiment</td>\n",
       "      <td>view</td>\n",
       "    </tr>\n",
       "    <tr>\n",
       "      <th>2016-09-24 19:19:03.542569</th>\n",
       "      <td>434745</td>\n",
       "      <td>experiment</td>\n",
       "      <td>view</td>\n",
       "    </tr>\n",
       "    <tr>\n",
       "      <th>2016-09-24 19:36:00.944135</th>\n",
       "      <td>507599</td>\n",
       "      <td>experiment</td>\n",
       "      <td>view</td>\n",
       "    </tr>\n",
       "    <tr>\n",
       "      <th>2016-09-24 19:59:02.646620</th>\n",
       "      <td>671993</td>\n",
       "      <td>control</td>\n",
       "      <td>view</td>\n",
       "    </tr>\n",
       "    <tr>\n",
       "      <th>2016-09-24 20:26:14.466886</th>\n",
       "      <td>536734</td>\n",
       "      <td>experiment</td>\n",
       "      <td>view</td>\n",
       "    </tr>\n",
       "  </tbody>\n",
       "</table>\n",
       "</div>"
      ],
      "text/plain": [
       "                                id       group action\n",
       "timestamp                                            \n",
       "2016-09-24 17:42:27.839496  804196  experiment   view\n",
       "2016-09-24 19:19:03.542569  434745  experiment   view\n",
       "2016-09-24 19:36:00.944135  507599  experiment   view\n",
       "2016-09-24 19:59:02.646620  671993     control   view\n",
       "2016-09-24 20:26:14.466886  536734  experiment   view"
      ]
     },
     "execution_count": 3,
     "metadata": {},
     "output_type": "execute_result"
    }
   ],
   "source": [
    "ab = pd.read_csv('homepage_actions.csv', index_col = 'timestamp')\n",
    "ab.head()"
   ]
  },
  {
   "cell_type": "markdown",
   "id": "becoming-tattoo",
   "metadata": {},
   "source": [
    "Determine the unique values of `group` and `action`"
   ]
  },
  {
   "cell_type": "code",
   "execution_count": 4,
   "id": "desperate-child",
   "metadata": {},
   "outputs": [
    {
     "name": "stdout",
     "output_type": "stream",
     "text": [
      "['experiment' 'control']\n",
      "['view' 'click']\n"
     ]
    }
   ],
   "source": [
    "print(ab['group'].unique())\n",
    "print(ab['action'].unique())"
   ]
  },
  {
   "cell_type": "markdown",
   "id": "appropriate-community",
   "metadata": {},
   "source": [
    "Create a dummy variable `treatment` for those in the treatment group.\n",
    "Create a dummy variable `click` for those that clicked."
   ]
  },
  {
   "cell_type": "code",
   "execution_count": 5,
   "id": "threatened-equity",
   "metadata": {},
   "outputs": [],
   "source": [
    "ab['treatment'] = (ab.group == 'experiment')*1\n",
    "ab['click']     = (ab.action == 'click')*1"
   ]
  },
  {
   "cell_type": "markdown",
   "id": "conceptual-bosnia",
   "metadata": {},
   "source": [
    "Create an object `x` that is the model matrix composed of a constant and the `treatment` variable.\n",
    "Create an object `y` that is the `click` variable."
   ]
  },
  {
   "cell_type": "code",
   "execution_count": 6,
   "id": "played-intermediate",
   "metadata": {},
   "outputs": [],
   "source": [
    "x = sm.add_constant(ab.treatment)\n",
    "y = ab.click"
   ]
  },
  {
   "cell_type": "markdown",
   "id": "passive-procedure",
   "metadata": {},
   "source": [
    "In one line, fit a statsmodel OLS and print the summary. \n",
    "Note the estimate and standard error on the `treatment` variable."
   ]
  },
  {
   "cell_type": "code",
   "execution_count": 7,
   "id": "generous-public",
   "metadata": {},
   "outputs": [
    {
     "data": {
      "text/html": [
       "<table class=\"simpletable\">\n",
       "<tr>\n",
       "        <td>Model:</td>               <td>OLS</td>         <td>Adj. R-squared:</td>     <td>0.000</td>  \n",
       "</tr>\n",
       "<tr>\n",
       "  <td>Dependent Variable:</td>       <td>click</td>             <td>AIC:</td>         <td>8991.4917</td>\n",
       "</tr>\n",
       "<tr>\n",
       "         <td>Date:</td>        <td>2021-03-09 15:12</td>        <td>BIC:</td>         <td>9005.5126</td>\n",
       "</tr>\n",
       "<tr>\n",
       "   <td>No. Observations:</td>        <td>8188</td>         <td>Log-Likelihood:</td>    <td>-4493.7</td> \n",
       "</tr>\n",
       "<tr>\n",
       "       <td>Df Model:</td>              <td>1</td>           <td>F-statistic:</td>       <td>3.738</td>  \n",
       "</tr>\n",
       "<tr>\n",
       "     <td>Df Residuals:</td>          <td>8186</td>       <td>Prob (F-statistic):</td>  <td>0.0532</td>  \n",
       "</tr>\n",
       "<tr>\n",
       "      <td>R-squared:</td>            <td>0.000</td>            <td>Scale:</td>         <td>0.17552</td> \n",
       "</tr>\n",
       "</table>\n",
       "<table class=\"simpletable\">\n",
       "<tr>\n",
       "      <td></td>       <th>Coef.</th> <th>Std.Err.</th>    <th>t</th>     <th>P>|t|</th> <th>[0.025</th>  <th>0.975]</th>\n",
       "</tr>\n",
       "<tr>\n",
       "  <th>const</th>     <td>0.2186</td>  <td>0.0064</td>  <td>34.0676</td> <td>0.0000</td> <td>0.2060</td>  <td>0.2312</td>\n",
       "</tr>\n",
       "<tr>\n",
       "  <th>treatment</th> <td>0.0179</td>  <td>0.0093</td>  <td>1.9335</td>  <td>0.0532</td> <td>-0.0002</td> <td>0.0361</td>\n",
       "</tr>\n",
       "</table>\n",
       "<table class=\"simpletable\">\n",
       "<tr>\n",
       "     <td>Omnibus:</td>    <td>1459.439</td>  <td>Durbin-Watson:</td>     <td>2.566</td> \n",
       "</tr>\n",
       "<tr>\n",
       "  <td>Prob(Omnibus):</td>   <td>0.000</td>  <td>Jarque-Bera (JB):</td> <td>2342.875</td>\n",
       "</tr>\n",
       "<tr>\n",
       "       <td>Skew:</td>       <td>1.301</td>      <td>Prob(JB):</td>       <td>0.000</td> \n",
       "</tr>\n",
       "<tr>\n",
       "     <td>Kurtosis:</td>     <td>2.696</td>   <td>Condition No.:</td>       <td>3</td>   \n",
       "</tr>\n",
       "</table>"
      ],
      "text/plain": [
       "<class 'statsmodels.iolib.summary2.Summary'>\n",
       "\"\"\"\n",
       "                 Results: Ordinary least squares\n",
       "==================================================================\n",
       "Model:              OLS              Adj. R-squared:     0.000    \n",
       "Dependent Variable: click            AIC:                8991.4917\n",
       "Date:               2021-03-09 15:12 BIC:                9005.5126\n",
       "No. Observations:   8188             Log-Likelihood:     -4493.7  \n",
       "Df Model:           1                F-statistic:        3.738    \n",
       "Df Residuals:       8186             Prob (F-statistic): 0.0532   \n",
       "R-squared:          0.000            Scale:              0.17552  \n",
       "--------------------------------------------------------------------\n",
       "             Coef.    Std.Err.      t      P>|t|     [0.025   0.975]\n",
       "--------------------------------------------------------------------\n",
       "const        0.2186     0.0064   34.0676   0.0000    0.2060   0.2312\n",
       "treatment    0.0179     0.0093    1.9335   0.0532   -0.0002   0.0361\n",
       "------------------------------------------------------------------\n",
       "Omnibus:             1459.439      Durbin-Watson:         2.566   \n",
       "Prob(Omnibus):       0.000         Jarque-Bera (JB):      2342.875\n",
       "Skew:                1.301         Prob(JB):              0.000   \n",
       "Kurtosis:            2.696         Condition No.:         3       \n",
       "==================================================================\n",
       "\n",
       "\"\"\""
      ]
     },
     "execution_count": 7,
     "metadata": {},
     "output_type": "execute_result"
    }
   ],
   "source": [
    "sm.OLS(y, x).fit().summary2()"
   ]
  },
  {
   "cell_type": "markdown",
   "id": "generic-transfer",
   "metadata": {},
   "source": [
    "Here we will perform the bootstrap in one code cell.\n",
    "\n",
    "- set the `npr` seed to 490\n",
    "- define `n` equal to the number of rows of `ab`\n",
    "- create an empty list `beta`\n",
    "- set up a for loop over 2,000 iterations using tqdm\n",
    "    - use `npr.choice()` to obtain the bootstrap index\n",
    "    - fit a `LinearRegression()`\n",
    "        - *hint:* `X` *needs to be a DataFrame, not a Series. Select the* `treatment` *variable using* `ab[['treatment']].iloc[indx]`. `y` *needs to be a Series. Select with only single square brackets.*\n",
    "    - append the `fit.coef_` to beta\n",
    "        - *Note: the intercept, which we do not need, is contained seperately in* `fit.intercept_`."
   ]
  },
  {
   "cell_type": "code",
   "execution_count": 8,
   "id": "foreign-material",
   "metadata": {},
   "outputs": [
    {
     "name": "stderr",
     "output_type": "stream",
     "text": [
      "100%|█████████████████████████████████████████████████████████████████████████████| 2000/2000 [00:10<00:00, 196.75it/s]\n"
     ]
    }
   ],
   "source": [
    "npr.seed(490)\n",
    "\n",
    "n = ab.shape[0]\n",
    "\n",
    "beta = []\n",
    "\n",
    "for i in tqdm(range(2000)):\n",
    "    indx = npr.choice(range(n), n)\n",
    "    fit = LinearRegression().fit(ab[['treatment']].iloc[indx], y = ab['click'].iloc[indx])\n",
    "    # fit.intercept_\n",
    "    beta.append(fit.coef_)"
   ]
  },
  {
   "cell_type": "markdown",
   "id": "useful-statement",
   "metadata": {},
   "source": [
    "Using one `print()` statment, print the average `beta` with 3 decimal places and the standard deviation of `beta` with 4 decimal places."
   ]
  },
  {
   "cell_type": "code",
   "execution_count": 9,
   "id": "distributed-summer",
   "metadata": {},
   "outputs": [
    {
     "name": "stdout",
     "output_type": "stream",
     "text": [
      "Average Estimate: 0.018\n",
      "Standard Deviation of Estimates: 0.0092\n"
     ]
    }
   ],
   "source": [
    "print('Average Estimate: %.3f\\nStandard Deviation of Estimates: %.4f' % (np.mean(beta), np.std(beta)))"
   ]
  },
  {
   "cell_type": "markdown",
   "id": "apart-polyester",
   "metadata": {},
   "source": [
    "Up next, we will produce a histogram. However, we need to perform some preprocessing.\n",
    "\n",
    "Print the top five observations of `beta` using a slice. Note the format."
   ]
  },
  {
   "cell_type": "code",
   "execution_count": 10,
   "id": "agreed-diameter",
   "metadata": {},
   "outputs": [
    {
     "data": {
      "text/plain": [
       "[array([0.02343743]),\n",
       " array([0.02741371]),\n",
       " array([0.00896696]),\n",
       " array([0.02451603]),\n",
       " array([0.0079953])]"
      ]
     },
     "execution_count": 10,
     "metadata": {},
     "output_type": "execute_result"
    }
   ],
   "source": [
    "beta[0:5]"
   ]
  },
  {
   "cell_type": "markdown",
   "id": "cutting-surface",
   "metadata": {},
   "source": [
    "To convert to a list we can work with\n",
    "\n",
    "- use `np.concatenate()` on `beta`\n",
    "- chain the `.flat` attribute\n",
    "- wrap the whole thing with `list()`\n",
    "- overwrite `beta`"
   ]
  },
  {
   "cell_type": "code",
   "execution_count": 11,
   "id": "eight-momentum",
   "metadata": {},
   "outputs": [],
   "source": [
    "beta = list(np.concatenate(beta).flat)"
   ]
  },
  {
   "cell_type": "markdown",
   "id": "induced-gabriel",
   "metadata": {},
   "source": [
    "Finally, use `matplotlib` to create a histogram of `beta`. "
   ]
  },
  {
   "cell_type": "code",
   "execution_count": 12,
   "id": "certified-timer",
   "metadata": {},
   "outputs": [
    {
     "data": {
      "image/png": "[encoded data removed]",
      "text/plain": [
       "<Figure size 576x324 with 1 Axes>"
      ]
     },
     "metadata": {
      "needs_background": "light"
     },
     "output_type": "display_data"
    }
   ],
   "source": [
    "plt.figure(figsize = (8, 4.5))\n",
    "\n",
    "plt.hist(beta)\n",
    "\n",
    "plt.axvline(x = np.mean(beta), ymin = 0, ymax = 525, color = 'black',\n",
    "            label = 'Estimate: {0:.3f}'.format(np.mean(beta)))\n",
    "plt.axvline(x = np.mean(beta) - np.std(beta), ymin = 0, ymax = 525, color = 'black', linestyle = 'dashed',\n",
    "            label = '1 Std. Dev.')\n",
    "plt.axvline(x = np.mean(beta) + np.std(beta), ymin = 0, ymax = 525, color = 'black', linestyle = 'dashed')\n",
    "\n",
    "plt.title('$\\\\hat{\\\\beta}$ Bootstrap Distribution')\n",
    "plt.ylabel('Count')\n",
    "plt.xlabel('$\\\\hat{\\\\beta}$')\n",
    "plt.legend()\n",
    "\n",
    "plt.show()"
   ]
  },
  {
   "cell_type": "code",
   "execution_count": null,
   "id": "understanding-villa",
   "metadata": {},
   "outputs": [],
   "source": []
  }
 ],
 "metadata": {
  "kernelspec": {
   "display_name": "Python 3",
   "language": "python",
   "name": "python3"
  },
  "language_info": {
   "codemirror_mode": {
    "name": "ipython",
    "version": 3
   },
   "file_extension": ".py",
   "mimetype": "text/x-python",
   "name": "python",
   "nbconvert_exporter": "python",
   "pygments_lexer": "ipython3",
   "version": "3.8.5"
  }
 },
 "nbformat": 4,
 "nbformat_minor": 5
}
