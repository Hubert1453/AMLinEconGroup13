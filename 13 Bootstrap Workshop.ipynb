{
 "cells": [
  {
   "cell_type": "markdown",
   "id": "congressional-telling",
   "metadata": {},
   "source": [
    "## Workshop - Bootstrap\n",
    "\n",
    "Today we will\n",
    "\n",
    "1. Show the average unique number of observations when bootstrapping\n",
    "2. Estimate the standard deviation on the causal effect from a **RANDOMIZED CONTROL TRIAL**\n",
    "\n",
    "**************************************\n",
    "# Bootstrap Samples\n",
    "\n",
    "In one code cell:\n",
    "\n",
    "- import `numpy` and `numpy.random`\n",
    "- set the seed to 490\n",
    "- create *a range* from 0 to 10,000\n",
    "    - *hint: start with a smaller size to set up the framework*\n",
    "- create an empty list\n",
    "- in a 1,000 iteration for loop\n",
    "    - *hint: start with a smaller size to set up the framework*\n",
    "    - randomly sample your range your range with replacement with a size equal to the length of your range using `npr.choice()`\n",
    "    - append your empty list with the length of the the number of unique values from the sampling with replacement\n",
    "- output the average number of unique values over all bootstrapped samples"
   ]
  },
  {
   "cell_type": "code",
   "execution_count": 9,
   "id": "split-appendix",
   "metadata": {},
   "outputs": [],
   "source": [
    "import numpy as np\n",
    "import numpy.random as npr\n",
    "from tqdm import tqdm"
   ]
  },
  {
   "cell_type": "code",
   "execution_count": 47,
   "metadata": {},
   "outputs": [
    {
     "output_type": "stream",
     "name": "stderr",
     "text": [
      "100%|██████████| 1000/1000 [00:00<00:00, 1016.27it/s]\n"
     ]
    }
   ],
   "source": [
    "np.random.seed(490)\n",
    "beta = []\n",
    "r = np.arange(0, 10000)\n",
    "for i in tqdm(range(0, 1000)):\n",
    "    temp = npr.choice(r, len(r))\n",
    "    beta.append(len(np.unique(temp)))\n"
   ]
  },
  {
   "cell_type": "code",
   "execution_count": 48,
   "metadata": {},
   "outputs": [
    {
     "output_type": "stream",
     "name": "stdout",
     "text": [
      "Bootstrap Avg.: 6.3216\n"
     ]
    }
   ],
   "source": [
    "print('Bootstrap Avg.: %.4f' %  (np.mean(beta) / len(beta)))"
   ]
  },
  {
   "cell_type": "markdown",
   "id": "unknown-cradle",
   "metadata": {},
   "source": [
    "Is this closer to 1/2, 2/3, or 3/4?"
   ]
  },
  {
   "cell_type": "markdown",
   "id": "packed-notion",
   "metadata": {},
   "source": []
  },
  {
   "cell_type": "markdown",
   "id": "incorporated-label",
   "metadata": {},
   "source": [
    "**************\n",
    "# Randomize Control Trial \n",
    "\n",
    "In economics, we call experiments with randomly assigned treatment and control groups __*randomized control trials*__. \n",
    "In data science, they are called _**A-B testing**_.\n",
    "\n",
    "In this application, we will be using a data set from [kaggle](https://www.kaggle.com/samtyagi/audacity-ab-testing). \n",
    "We will be using an LPM to estimate the effect of being in a treament group on clicking *something*.\n",
    "The data is from Audacity, however, there is no information about the experiment specifically. \n",
    "We do not know if this is showing different versions of a website, different versions of an advertisement, or something else entirely.\n",
    "\n"
   ]
  },
  {
   "cell_type": "code",
   "execution_count": 15,
   "id": "electronic-description",
   "metadata": {},
   "outputs": [],
   "source": [
    "import pandas as pd\n",
    "from tqdm import tqdm\n",
    "\n",
    "import statsmodels.api as sm\n",
    "from sklearn.linear_model import LinearRegression\n",
    "\n",
    "import matplotlib.pyplot as plt\n",
    "import os"
   ]
  },
  {
   "cell_type": "markdown",
   "id": "cardiovascular-mills",
   "metadata": {},
   "source": [
    "Load in the audacity data as `ab` with `index_col = timestamp`.\n",
    "Print the head."
   ]
  },
  {
   "cell_type": "code",
   "execution_count": 27,
   "id": "extensive-matter",
   "metadata": {},
   "outputs": [],
   "source": [
    "os.chdir('e:\\\\UIUC\\\\ECON 490\\\\DataSet\\\\')\n",
    "os.getcwd()\n",
    "ab = pd.read_csv('homepage_actions.csv', index_col = 'timestamp')\n"
   ]
  },
  {
   "cell_type": "markdown",
   "id": "powerful-contamination",
   "metadata": {},
   "source": [
    "Determine the unique values of `group` and `action`"
   ]
  },
  {
   "cell_type": "code",
   "execution_count": 49,
   "id": "retired-services",
   "metadata": {},
   "outputs": [
    {
     "output_type": "stream",
     "name": "stdout",
     "text": [
      "['view' 'click']\n['experiment' 'control']\n"
     ]
    }
   ],
   "source": [
    "print(ab['action'].unique())\n",
    "print(ab['group'].unique())"
   ]
  },
  {
   "cell_type": "markdown",
   "id": "auburn-devices",
   "metadata": {},
   "source": [
    "Create a dummy variable `treatment` for those in the treatment group.\n",
    "Create a dummy variable `click` for those that clicked."
   ]
  },
  {
   "cell_type": "code",
   "execution_count": 35,
   "id": "dental-merchant",
   "metadata": {},
   "outputs": [
    {
     "output_type": "execute_result",
     "data": {
      "text/plain": [
       "                                id       group action  is_treatment  is_click  \\\n",
       "timestamp                                                                       \n",
       "2016-09-24 17:42:27.839496  804196  experiment   view             1         0   \n",
       "2016-09-24 19:19:03.542569  434745  experiment   view             1         0   \n",
       "2016-09-24 19:36:00.944135  507599  experiment   view             1         0   \n",
       "2016-09-24 19:59:02.646620  671993     control   view             0         0   \n",
       "2016-09-24 20:26:14.466886  536734  experiment   view             1         0   \n",
       "...                            ...         ...    ...           ...       ...   \n",
       "2017-01-18 09:11:41.984113  192060  experiment   view             1         0   \n",
       "2017-01-18 09:42:12.844575  755912  experiment   view             1         0   \n",
       "2017-01-18 10:01:09.026482  458115  experiment   view             1         0   \n",
       "2017-01-18 10:08:51.588469  505451     control   view             0         0   \n",
       "2017-01-18 10:24:08.629327  461199     control   view             0         0   \n",
       "\n",
       "                            treatment  click  \n",
       "timestamp                                     \n",
       "2016-09-24 17:42:27.839496          1      0  \n",
       "2016-09-24 19:19:03.542569          1      0  \n",
       "2016-09-24 19:36:00.944135          1      0  \n",
       "2016-09-24 19:59:02.646620          0      0  \n",
       "2016-09-24 20:26:14.466886          1      0  \n",
       "...                               ...    ...  \n",
       "2017-01-18 09:11:41.984113          1      0  \n",
       "2017-01-18 09:42:12.844575          1      0  \n",
       "2017-01-18 10:01:09.026482          1      0  \n",
       "2017-01-18 10:08:51.588469          0      0  \n",
       "2017-01-18 10:24:08.629327          0      0  \n",
       "\n",
       "[8188 rows x 7 columns]"
      ],
      "text/html": "<div>\n<style scoped>\n    .dataframe tbody tr th:only-of-type {\n        vertical-align: middle;\n    }\n\n    .dataframe tbody tr th {\n        vertical-align: top;\n    }\n\n    .dataframe thead th {\n        text-align: right;\n    }\n</style>\n<table border=\"1\" class=\"dataframe\">\n  <thead>\n    <tr style=\"text-align: right;\">\n      <th></th>\n      <th>id</th>\n      <th>group</th>\n      <th>action</th>\n      <th>is_treatment</th>\n      <th>is_click</th>\n      <th>treatment</th>\n      <th>click</th>\n    </tr>\n    <tr>\n      <th>timestamp</th>\n      <th></th>\n      <th></th>\n      <th></th>\n      <th></th>\n      <th></th>\n      <th></th>\n      <th></th>\n    </tr>\n  </thead>\n  <tbody>\n    <tr>\n      <th>2016-09-24 17:42:27.839496</th>\n      <td>804196</td>\n      <td>experiment</td>\n      <td>view</td>\n      <td>1</td>\n      <td>0</td>\n      <td>1</td>\n      <td>0</td>\n    </tr>\n    <tr>\n      <th>2016-09-24 19:19:03.542569</th>\n      <td>434745</td>\n      <td>experiment</td>\n      <td>view</td>\n      <td>1</td>\n      <td>0</td>\n      <td>1</td>\n      <td>0</td>\n    </tr>\n    <tr>\n      <th>2016-09-24 19:36:00.944135</th>\n      <td>507599</td>\n      <td>experiment</td>\n      <td>view</td>\n      <td>1</td>\n      <td>0</td>\n      <td>1</td>\n      <td>0</td>\n    </tr>\n    <tr>\n      <th>2016-09-24 19:59:02.646620</th>\n      <td>671993</td>\n      <td>control</td>\n      <td>view</td>\n      <td>0</td>\n      <td>0</td>\n      <td>0</td>\n      <td>0</td>\n    </tr>\n    <tr>\n      <th>2016-09-24 20:26:14.466886</th>\n      <td>536734</td>\n      <td>experiment</td>\n      <td>view</td>\n      <td>1</td>\n      <td>0</td>\n      <td>1</td>\n      <td>0</td>\n    </tr>\n    <tr>\n      <th>...</th>\n      <td>...</td>\n      <td>...</td>\n      <td>...</td>\n      <td>...</td>\n      <td>...</td>\n      <td>...</td>\n      <td>...</td>\n    </tr>\n    <tr>\n      <th>2017-01-18 09:11:41.984113</th>\n      <td>192060</td>\n      <td>experiment</td>\n      <td>view</td>\n      <td>1</td>\n      <td>0</td>\n      <td>1</td>\n      <td>0</td>\n    </tr>\n    <tr>\n      <th>2017-01-18 09:42:12.844575</th>\n      <td>755912</td>\n      <td>experiment</td>\n      <td>view</td>\n      <td>1</td>\n      <td>0</td>\n      <td>1</td>\n      <td>0</td>\n    </tr>\n    <tr>\n      <th>2017-01-18 10:01:09.026482</th>\n      <td>458115</td>\n      <td>experiment</td>\n      <td>view</td>\n      <td>1</td>\n      <td>0</td>\n      <td>1</td>\n      <td>0</td>\n    </tr>\n    <tr>\n      <th>2017-01-18 10:08:51.588469</th>\n      <td>505451</td>\n      <td>control</td>\n      <td>view</td>\n      <td>0</td>\n      <td>0</td>\n      <td>0</td>\n      <td>0</td>\n    </tr>\n    <tr>\n      <th>2017-01-18 10:24:08.629327</th>\n      <td>461199</td>\n      <td>control</td>\n      <td>view</td>\n      <td>0</td>\n      <td>0</td>\n      <td>0</td>\n      <td>0</td>\n    </tr>\n  </tbody>\n</table>\n<p>8188 rows × 7 columns</p>\n</div>"
     },
     "metadata": {},
     "execution_count": 35
    }
   ],
   "source": [
    "ab['treatment'] = (ab['group'] == 'experiment')*1\n",
    "ab['click'] = (ab['action'] == 'click')*1\n",
    "ab"
   ]
  },
  {
   "cell_type": "markdown",
   "id": "disturbed-rental",
   "metadata": {},
   "source": [
    "Create an object `x` that is the model matrix composed of a constant and the `treatment` variable.\n",
    "Create an object `y` that is the `click` variable."
   ]
  },
  {
   "cell_type": "code",
   "execution_count": 41,
   "id": "silent-somewhere",
   "metadata": {},
   "outputs": [],
   "source": [
    "# x = pd.DataFrame()\n",
    "# x['treatment'] = ab['treatment']\n",
    "# x = sm.add_constant(x)\n",
    "# y = ab['click']\n",
    "\n",
    "x = sm.add_constant(ab['treatment'])\n",
    "y = ab['click']"
   ]
  },
  {
   "cell_type": "markdown",
   "id": "peaceful-keyboard",
   "metadata": {},
   "source": [
    "In one line, fit a statsmodel OLS and print the summary. \n",
    "Note the estimate and standard error on the `treatment` variable."
   ]
  },
  {
   "cell_type": "code",
   "execution_count": 43,
   "id": "catholic-charleston",
   "metadata": {},
   "outputs": [
    {
     "output_type": "execute_result",
     "data": {
      "text/plain": [
       "<class 'statsmodels.iolib.summary.Summary'>\n",
       "\"\"\"\n",
       "                            OLS Regression Results                            \n",
       "==============================================================================\n",
       "Dep. Variable:                  click   R-squared:                       0.000\n",
       "Model:                            OLS   Adj. R-squared:                  0.000\n",
       "Method:                 Least Squares   F-statistic:                     3.738\n",
       "Date:                Tue, 09 Mar 2021   Prob (F-statistic):             0.0532\n",
       "Time:                        15:07:23   Log-Likelihood:                -4493.7\n",
       "No. Observations:                8188   AIC:                             8991.\n",
       "Df Residuals:                    8186   BIC:                             9006.\n",
       "Df Model:                           1                                         \n",
       "Covariance Type:            nonrobust                                         \n",
       "==============================================================================\n",
       "                 coef    std err          t      P>|t|      [0.025      0.975]\n",
       "------------------------------------------------------------------------------\n",
       "const          0.2186      0.006     34.068      0.000       0.206       0.231\n",
       "treatment      0.0179      0.009      1.933      0.053      -0.000       0.036\n",
       "==============================================================================\n",
       "Omnibus:                     1459.439   Durbin-Watson:                   2.566\n",
       "Prob(Omnibus):                  0.000   Jarque-Bera (JB):             2342.875\n",
       "Skew:                           1.301   Prob(JB):                         0.00\n",
       "Kurtosis:                       2.696   Cond. No.                         2.57\n",
       "==============================================================================\n",
       "\n",
       "Notes:\n",
       "[1] Standard Errors assume that the covariance matrix of the errors is correctly specified.\n",
       "\"\"\""
      ],
      "text/html": "<table class=\"simpletable\">\n<caption>OLS Regression Results</caption>\n<tr>\n  <th>Dep. Variable:</th>          <td>click</td>      <th>  R-squared:         </th> <td>   0.000</td>\n</tr>\n<tr>\n  <th>Model:</th>                   <td>OLS</td>       <th>  Adj. R-squared:    </th> <td>   0.000</td>\n</tr>\n<tr>\n  <th>Method:</th>             <td>Least Squares</td>  <th>  F-statistic:       </th> <td>   3.738</td>\n</tr>\n<tr>\n  <th>Date:</th>             <td>Tue, 09 Mar 2021</td> <th>  Prob (F-statistic):</th>  <td>0.0532</td> \n</tr>\n<tr>\n  <th>Time:</th>                 <td>15:07:23</td>     <th>  Log-Likelihood:    </th> <td> -4493.7</td>\n</tr>\n<tr>\n  <th>No. Observations:</th>      <td>  8188</td>      <th>  AIC:               </th> <td>   8991.</td>\n</tr>\n<tr>\n  <th>Df Residuals:</th>          <td>  8186</td>      <th>  BIC:               </th> <td>   9006.</td>\n</tr>\n<tr>\n  <th>Df Model:</th>              <td>     1</td>      <th>                     </th>     <td> </td>   \n</tr>\n<tr>\n  <th>Covariance Type:</th>      <td>nonrobust</td>    <th>                     </th>     <td> </td>   \n</tr>\n</table>\n<table class=\"simpletable\">\n<tr>\n      <td></td>         <th>coef</th>     <th>std err</th>      <th>t</th>      <th>P>|t|</th>  <th>[0.025</th>    <th>0.975]</th>  \n</tr>\n<tr>\n  <th>const</th>     <td>    0.2186</td> <td>    0.006</td> <td>   34.068</td> <td> 0.000</td> <td>    0.206</td> <td>    0.231</td>\n</tr>\n<tr>\n  <th>treatment</th> <td>    0.0179</td> <td>    0.009</td> <td>    1.933</td> <td> 0.053</td> <td>   -0.000</td> <td>    0.036</td>\n</tr>\n</table>\n<table class=\"simpletable\">\n<tr>\n  <th>Omnibus:</th>       <td>1459.439</td> <th>  Durbin-Watson:     </th> <td>   2.566</td>\n</tr>\n<tr>\n  <th>Prob(Omnibus):</th>  <td> 0.000</td>  <th>  Jarque-Bera (JB):  </th> <td>2342.875</td>\n</tr>\n<tr>\n  <th>Skew:</th>           <td> 1.301</td>  <th>  Prob(JB):          </th> <td>    0.00</td>\n</tr>\n<tr>\n  <th>Kurtosis:</th>       <td> 2.696</td>  <th>  Cond. No.          </th> <td>    2.57</td>\n</tr>\n</table><br/><br/>Notes:<br/>[1] Standard Errors assume that the covariance matrix of the errors is correctly specified."
     },
     "metadata": {},
     "execution_count": 43
    }
   ],
   "source": [
    "reg = sm.OLS(y, x).fit()\n",
    "reg.summary()"
   ]
  },
  {
   "cell_type": "markdown",
   "id": "amazing-baseball",
   "metadata": {},
   "source": [
    "Here we will perform the bootstrap in one code cell.\n",
    "\n",
    "- set the `npr` seed to 490\n",
    "- define `n` equal to the number of rows of `ab`\n",
    "- create an empty list `beta`\n",
    "- set up a for loop over 2,000 iterations using tqdm\n",
    "    - use `npr.choice()` to obtain the bootstrap index\n",
    "    - fit a `LinearRegression()`\n",
    "        - *hint:* `X` *needs to be a DataFrame, not a Series. Select the* `treatment` *variable using* `ab[['treatment']].iloc[indx]`. `y` *needs to be a Series. Select with only single square brackets.*\n",
    "    - append the `fit.coef_` to beta\n",
    "        - *Note: the intercept, which we do not need, is contained seperately in* `fit.intercept_`."
   ]
  },
  {
   "cell_type": "code",
   "execution_count": null,
   "id": "coated-retirement",
   "metadata": {},
   "outputs": [],
   "source": []
  },
  {
   "cell_type": "markdown",
   "id": "entertaining-october",
   "metadata": {},
   "source": [
    "Using one `print()` statment, print the average `beta` with 3 decimal places and the standard deviation of `beta` with 4 decimal places."
   ]
  },
  {
   "cell_type": "code",
   "execution_count": null,
   "id": "integral-communist",
   "metadata": {},
   "outputs": [],
   "source": []
  },
  {
   "cell_type": "markdown",
   "id": "arctic-italy",
   "metadata": {},
   "source": [
    "Up next, we will produce a histogram. However, we need to perform some preprocessing.\n",
    "\n",
    "Print the top five observations of `beta` using a slice. Note the format."
   ]
  },
  {
   "cell_type": "code",
   "execution_count": null,
   "id": "moved-communist",
   "metadata": {},
   "outputs": [],
   "source": []
  },
  {
   "cell_type": "markdown",
   "id": "heard-tiffany",
   "metadata": {},
   "source": [
    "To convert to a list we can work with\n",
    "\n",
    "- use `np.concatenate()` on `beta`\n",
    "- chain the `.flat` attribute\n",
    "- wrap the whole thing with `list()`\n",
    "- overwrite `beta`"
   ]
  },
  {
   "cell_type": "code",
   "execution_count": null,
   "id": "emotional-lewis",
   "metadata": {},
   "outputs": [],
   "source": []
  },
  {
   "cell_type": "markdown",
   "id": "athletic-screening",
   "metadata": {},
   "source": [
    "Finally, use `matplotlib` to create a histogram of `beta`. "
   ]
  },
  {
   "cell_type": "code",
   "execution_count": null,
   "id": "terminal-emphasis",
   "metadata": {},
   "outputs": [],
   "source": []
  }
 ],
 "metadata": {
  "kernelspec": {
   "display_name": "Python 3",
   "language": "python",
   "name": "python3"
  },
  "language_info": {
   "codemirror_mode": {
    "name": "ipython",
    "version": 3
   },
   "file_extension": ".py",
   "mimetype": "text/x-python",
   "name": "python",
   "nbconvert_exporter": "python",
   "pygments_lexer": "ipython3",
   "version": "3.8.8-final"
  }
 },
 "nbformat": 4,
 "nbformat_minor": 5
}